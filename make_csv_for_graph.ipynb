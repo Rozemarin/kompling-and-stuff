{
  "nbformat": 4,
  "nbformat_minor": 0,
  "metadata": {
    "colab": {
      "name": "make_csv_for_graph",
      "provenance": [],
      "authorship_tag": "ABX9TyPlZuYuHcj+MUP7kmREa6hr"
    },
    "kernelspec": {
      "name": "python3",
      "display_name": "Python 3"
    }
  },
  "cells": [
    {
      "cell_type": "code",
      "metadata": {
        "colab": {
          "base_uri": "https://localhost:8080/"
        },
        "id": "CypAdbTFxKpe",
        "outputId": "ec3d0a47-f144-4d3d-849a-ecb65ab5f18e"
      },
      "source": [
        "# for colab\n",
        "# !pip install pymorphy2"
      ],
      "execution_count": 22,
      "outputs": [
        {
          "output_type": "stream",
          "text": [
            "Collecting pymorphy2\n",
            "\u001b[?25l  Downloading https://files.pythonhosted.org/packages/07/57/b2ff2fae3376d4f3c697b9886b64a54b476e1a332c67eee9f88e7f1ae8c9/pymorphy2-0.9.1-py3-none-any.whl (55kB)\n",
            "\u001b[K     |████████████████████████████████| 61kB 3.7MB/s \n",
            "\u001b[?25hCollecting pymorphy2-dicts-ru<3.0,>=2.4\n",
            "\u001b[?25l  Downloading https://files.pythonhosted.org/packages/3a/79/bea0021eeb7eeefde22ef9e96badf174068a2dd20264b9a378f2be1cdd9e/pymorphy2_dicts_ru-2.4.417127.4579844-py2.py3-none-any.whl (8.2MB)\n",
            "\u001b[K     |████████████████████████████████| 8.2MB 9.4MB/s \n",
            "\u001b[?25hCollecting dawg-python>=0.7.1\n",
            "  Downloading https://files.pythonhosted.org/packages/6a/84/ff1ce2071d4c650ec85745766c0047ccc3b5036f1d03559fd46bb38b5eeb/DAWG_Python-0.7.2-py2.py3-none-any.whl\n",
            "Requirement already satisfied: docopt>=0.6 in /usr/local/lib/python3.6/dist-packages (from pymorphy2) (0.6.2)\n",
            "Installing collected packages: pymorphy2-dicts-ru, dawg-python, pymorphy2\n",
            "Successfully installed dawg-python-0.7.2 pymorphy2-0.9.1 pymorphy2-dicts-ru-2.4.417127.4579844\n"
          ],
          "name": "stdout"
        }
      ]
    },
    {
      "cell_type": "code",
      "metadata": {
        "id": "scjkkscNpteK"
      },
      "source": [
        "import os, re \n",
        "import pymorphy2 as pm\n",
        "from nltk import Counter\n",
        "import csv"
      ],
      "execution_count": 79,
      "outputs": []
    },
    {
      "cell_type": "code",
      "metadata": {
        "id": "zJthSBXkzkOL"
      },
      "source": [
        "path_files = '/content/texts/'\n",
        "path_stopwords = '/content/ru_stopwords.txt'"
      ],
      "execution_count": 49,
      "outputs": []
    },
    {
      "cell_type": "code",
      "metadata": {
        "colab": {
          "base_uri": "https://localhost:8080/"
        },
        "id": "O2mscBHDqVEK",
        "outputId": "c6b46317-efcb-4a7f-ff85-bb39df824acc"
      },
      "source": [
        "corpus = ''\n",
        "fnames = os.listdir(path_files)\n",
        "for name in fnames:\n",
        "  with open (path_files + name, encoding='utf-8') as f:\n",
        "    text = f.read().lower()\n",
        "  corpus += text + ' '\n",
        "print(fnames)"
      ],
      "execution_count": 50,
      "outputs": [
        {
          "output_type": "stream",
          "text": [
            "['covid_04.txt', 'covid_00.txt', 'covid_01.txt', 'covid_05.txt', 'covid_02.txt', 'covid_03.txt']\n"
          ],
          "name": "stdout"
        }
      ]
    },
    {
      "cell_type": "code",
      "metadata": {
        "colab": {
          "base_uri": "https://localhost:8080/"
        },
        "id": "8PRcqrdeqyq1",
        "outputId": "4092fe99-97ea-4bb1-b69b-767aaacfac09"
      },
      "source": [
        "tokens = re.split('[\\d\\W]+', corpus)\n",
        "tokens[:10]"
      ],
      "execution_count": 51,
      "outputs": [
        {
          "output_type": "execute_result",
          "data": {
            "text/plain": [
              "['', 'в', 'у', 'меня', 'похожая', 'ситуация', 'с', 'сижу', 'на', 'больничном']"
            ]
          },
          "metadata": {
            "tags": []
          },
          "execution_count": 51
        }
      ]
    },
    {
      "cell_type": "code",
      "metadata": {
        "id": "NJyWtRkhrCwH"
      },
      "source": [
        "with open(path_stopwords)as f:\n",
        "  stopwords = f.read().split()\n",
        "stopwords.append('')"
      ],
      "execution_count": 52,
      "outputs": []
    },
    {
      "cell_type": "code",
      "metadata": {
        "id": "dXoZksG6tkv3"
      },
      "source": [
        "clean_tokens = []\n",
        "\n",
        "for token in tokens:\n",
        "  if token not in stopwords:\n",
        "    clean_tokens.append(token)"
      ],
      "execution_count": 53,
      "outputs": []
    },
    {
      "cell_type": "code",
      "metadata": {
        "colab": {
          "base_uri": "https://localhost:8080/"
        },
        "id": "xr0dBsMptwCT",
        "outputId": "729216aa-76e8-4086-9458-bd1a5a43d577"
      },
      "source": [
        "len(tokens)"
      ],
      "execution_count": 54,
      "outputs": [
        {
          "output_type": "execute_result",
          "data": {
            "text/plain": [
              "10277"
            ]
          },
          "metadata": {
            "tags": []
          },
          "execution_count": 54
        }
      ]
    },
    {
      "cell_type": "code",
      "metadata": {
        "colab": {
          "base_uri": "https://localhost:8080/"
        },
        "id": "l9aFBX8utyye",
        "outputId": "6c0405ad-de77-4859-fae4-05b7cc80393a"
      },
      "source": [
        "len(clean_tokens)"
      ],
      "execution_count": 55,
      "outputs": [
        {
          "output_type": "execute_result",
          "data": {
            "text/plain": [
              "7288"
            ]
          },
          "metadata": {
            "tags": []
          },
          "execution_count": 55
        }
      ]
    },
    {
      "cell_type": "code",
      "metadata": {
        "colab": {
          "base_uri": "https://localhost:8080/"
        },
        "id": "NZLglUtDt1xd",
        "outputId": "46cfb437-26b9-4cb8-fba1-0a8a7f50499a"
      },
      "source": [
        "lemmas = []\n",
        "\n",
        "morph = pm.MorphAnalyzer()\n",
        "\n",
        "for token in clean_tokens:\n",
        "  lemmas.append(morph.parse(token)[0].normal_form)\n",
        "\n",
        "lemmas[:10]"
      ],
      "execution_count": 56,
      "outputs": [
        {
          "output_type": "execute_result",
          "data": {
            "text/plain": [
              "['похожий',\n",
              " 'ситуация',\n",
              " 'сидеть',\n",
              " 'больничный',\n",
              " 'коронавирус',\n",
              " 'мазка',\n",
              " 'положительный',\n",
              " 'причём',\n",
              " 'электронный',\n",
              " 'карта']"
            ]
          },
          "metadata": {
            "tags": []
          },
          "execution_count": 56
        }
      ]
    },
    {
      "cell_type": "code",
      "metadata": {
        "colab": {
          "base_uri": "https://localhost:8080/"
        },
        "id": "uGUG9KMs1Gei",
        "outputId": "c306b977-8c52-4afe-ffe6-d7b6bde68b97"
      },
      "source": [
        "pairs = []\n",
        "\n",
        "for i in range(len(lemmas) - 1):\n",
        "  pairs.append(min(lemmas[i], lemmas[i + 1]) + '_' + max(lemmas[i], lemmas[i + 1]))\n",
        "\n",
        "counts = Counter(pairs).most_common()\n",
        "counts[:10]"
      ],
      "execution_count": 63,
      "outputs": [
        {
          "output_type": "execute_result",
          "data": {
            "text/plain": [
              "[('новосибирский_область', 136),\n",
              " ('инфекция_коронавирусный', 47),\n",
              " ('масочный_режим', 39),\n",
              " ('новосибирский_территория', 33),\n",
              " ('коронавирусный_новый', 21),\n",
              " ('мера_ограничительный', 21),\n",
              " ('новосибирский_правительство', 17),\n",
              " ('андрей_травниковый', 16),\n",
              " ('масочный_соблюдение', 16),\n",
              " ('повышенный_режим', 16)]"
            ]
          },
          "metadata": {
            "tags": []
          },
          "execution_count": 63
        }
      ]
    },
    {
      "cell_type": "code",
      "metadata": {
        "id": "cEz7gFZ-1rgc"
      },
      "source": [
        "data = ''\n",
        "for el in counts:\n",
        "  data += el[0].split('_')[0] + ',' + el[0].split('_')[1] + ', ' + str(el[1]) + '\\n'\n",
        "\n",
        "with open('words_graph.csv', 'w', newline='') as f:\n",
        "  f.write(data)"
      ],
      "execution_count": 84,
      "outputs": []
    }
  ]
}